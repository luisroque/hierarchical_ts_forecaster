{
 "cells": [
  {
   "cell_type": "code",
   "execution_count": 2,
   "metadata": {},
   "outputs": [],
   "source": [
    "import warnings\n",
    "import pandas as pd\n",
    "import arviz as az\n",
    "\n",
    "import os, sys\n",
    "dir2 = os.path.abspath('')\n",
    "dir1 = os.path.dirname(dir2)\n",
    "if not dir1 in sys.path: sys.path.append(dir1)\n",
    "from libs.model import HGPforecaster\n",
    "from libs.metrics import calculate_metrics, metrics_to_table\n",
    "from libs.pre_processing import generate_groups_data\n",
    "from libs.visual_analysis import visualize_fit, visualize_predict\n",
    "import calendar\n",
    "import numpy as np\n",
    "az.style.use('arviz-darkgrid')\n",
    "warnings.filterwarnings('ignore')"
   ]
  },
  {
   "cell_type": "markdown",
   "metadata": {},
   "source": [
    "# Prison"
   ]
  },
  {
   "cell_type": "code",
   "execution_count": 35,
   "metadata": {},
   "outputs": [],
   "source": [
    "prison = pd.read_csv('../data/prisonLF.csv', sep=\",\")\n",
    "prison = prison.drop('Unnamed: 0', axis =1)\n",
    "prison['Date'] = prison['t'].astype('datetime64[ns]')\n",
    "prison = prison.drop('t', axis=1)\n",
    "prison = prison.set_index('Date')\n",
    "prison.columns= ['State', 'Gender', 'Legal', 'Count']"
   ]
  },
  {
   "cell_type": "code",
   "execution_count": 36,
   "metadata": {},
   "outputs": [
    {
     "data": {
      "text/html": [
       "<div>\n",
       "<style scoped>\n",
       "    .dataframe tbody tr th:only-of-type {\n",
       "        vertical-align: middle;\n",
       "    }\n",
       "\n",
       "    .dataframe tbody tr th {\n",
       "        vertical-align: top;\n",
       "    }\n",
       "\n",
       "    .dataframe thead th {\n",
       "        text-align: right;\n",
       "    }\n",
       "</style>\n",
       "<table border=\"1\" class=\"dataframe\">\n",
       "  <thead>\n",
       "    <tr style=\"text-align: right;\">\n",
       "      <th></th>\n",
       "      <th>State</th>\n",
       "      <th>Gender</th>\n",
       "      <th>Legal</th>\n",
       "      <th>Count</th>\n",
       "    </tr>\n",
       "    <tr>\n",
       "      <th>Date</th>\n",
       "      <th></th>\n",
       "      <th></th>\n",
       "      <th></th>\n",
       "      <th></th>\n",
       "    </tr>\n",
       "  </thead>\n",
       "  <tbody>\n",
       "    <tr>\n",
       "      <th>2005-03-01</th>\n",
       "      <td>ACT</td>\n",
       "      <td>Female</td>\n",
       "      <td>Remanded</td>\n",
       "      <td>2</td>\n",
       "    </tr>\n",
       "    <tr>\n",
       "      <th>2005-06-01</th>\n",
       "      <td>ACT</td>\n",
       "      <td>Female</td>\n",
       "      <td>Remanded</td>\n",
       "      <td>4</td>\n",
       "    </tr>\n",
       "    <tr>\n",
       "      <th>2005-09-01</th>\n",
       "      <td>ACT</td>\n",
       "      <td>Female</td>\n",
       "      <td>Remanded</td>\n",
       "      <td>1</td>\n",
       "    </tr>\n",
       "    <tr>\n",
       "      <th>2005-12-01</th>\n",
       "      <td>ACT</td>\n",
       "      <td>Female</td>\n",
       "      <td>Remanded</td>\n",
       "      <td>4</td>\n",
       "    </tr>\n",
       "    <tr>\n",
       "      <th>2006-03-01</th>\n",
       "      <td>ACT</td>\n",
       "      <td>Female</td>\n",
       "      <td>Remanded</td>\n",
       "      <td>4</td>\n",
       "    </tr>\n",
       "    <tr>\n",
       "      <th>...</th>\n",
       "      <td>...</td>\n",
       "      <td>...</td>\n",
       "      <td>...</td>\n",
       "      <td>...</td>\n",
       "    </tr>\n",
       "    <tr>\n",
       "      <th>2015-12-01</th>\n",
       "      <td>WA</td>\n",
       "      <td>Male</td>\n",
       "      <td>Sentenced</td>\n",
       "      <td>3894</td>\n",
       "    </tr>\n",
       "    <tr>\n",
       "      <th>2016-03-01</th>\n",
       "      <td>WA</td>\n",
       "      <td>Male</td>\n",
       "      <td>Sentenced</td>\n",
       "      <td>3876</td>\n",
       "    </tr>\n",
       "    <tr>\n",
       "      <th>2016-06-01</th>\n",
       "      <td>WA</td>\n",
       "      <td>Male</td>\n",
       "      <td>Sentenced</td>\n",
       "      <td>3969</td>\n",
       "    </tr>\n",
       "    <tr>\n",
       "      <th>2016-09-01</th>\n",
       "      <td>WA</td>\n",
       "      <td>Male</td>\n",
       "      <td>Sentenced</td>\n",
       "      <td>4076</td>\n",
       "    </tr>\n",
       "    <tr>\n",
       "      <th>2016-12-01</th>\n",
       "      <td>WA</td>\n",
       "      <td>Male</td>\n",
       "      <td>Sentenced</td>\n",
       "      <td>4088</td>\n",
       "    </tr>\n",
       "  </tbody>\n",
       "</table>\n",
       "<p>1536 rows × 4 columns</p>\n",
       "</div>"
      ],
      "text/plain": [
       "           State  Gender      Legal  Count\n",
       "Date                                      \n",
       "2005-03-01   ACT  Female   Remanded      2\n",
       "2005-06-01   ACT  Female   Remanded      4\n",
       "2005-09-01   ACT  Female   Remanded      1\n",
       "2005-12-01   ACT  Female   Remanded      4\n",
       "2006-03-01   ACT  Female   Remanded      4\n",
       "...          ...     ...        ...    ...\n",
       "2015-12-01    WA    Male  Sentenced   3894\n",
       "2016-03-01    WA    Male  Sentenced   3876\n",
       "2016-06-01    WA    Male  Sentenced   3969\n",
       "2016-09-01    WA    Male  Sentenced   4076\n",
       "2016-12-01    WA    Male  Sentenced   4088\n",
       "\n",
       "[1536 rows x 4 columns]"
      ]
     },
     "execution_count": 36,
     "metadata": {},
     "output_type": "execute_result"
    }
   ],
   "source": [
    "prison"
   ]
  },
  {
   "cell_type": "code",
   "execution_count": 37,
   "metadata": {},
   "outputs": [],
   "source": [
    "prison.to_csv('../data/prison_to_r.csv')"
   ]
  },
  {
   "cell_type": "markdown",
   "metadata": {},
   "source": [
    "# Tourism"
   ]
  },
  {
   "cell_type": "code",
   "execution_count": 22,
   "metadata": {},
   "outputs": [
    {
     "name": "stdout",
     "output_type": "stream",
     "text": [
      "Number of groups: 4\n",
      "\tState: 7\n",
      "\tZone: 27\n",
      "\tRegion: 76\n",
      "\tPurpose: 4\n",
      "Total number of series: 304\n",
      "Number of points per series for train: 220\n",
      "Total number of points: 228\n",
      "Seasonality: 12\n",
      "Forecast horizon: 8\n"
     ]
    }
   ],
   "source": [
    "data = pd.read_csv('../data/TourismData_v3.csv')\n",
    "data['Year'] = data['Year'].fillna(method='ffill')\n",
    "\n",
    "d = dict((v,k) for k,v in enumerate(calendar.month_name))\n",
    "data.Month = data.Month.map(d)\n",
    "data = data.assign(t=pd.to_datetime(data[['Year', 'Month']].assign(day=1))).set_index('t')\n",
    "data = data.drop(['Year', 'Month'], axis=1)\n",
    "\n",
    "groups_input = {\n",
    "    'State': [0,1],\n",
    "    'Zone': [0,2],\n",
    "    'Region': [0,3],\n",
    "    'Purpose': [3,6]\n",
    "}\n",
    "\n",
    "groups = generate_groups_data(data, groups_input, seasonality=12, h=8)"
   ]
  },
  {
   "cell_type": "code",
   "execution_count": 5,
   "metadata": {},
   "outputs": [],
   "source": [
    "def prepare_data_to_R(groups, date_points):\n",
    "    idx = {}\n",
    "    for group in groups['predict']['groups_names'].keys():\n",
    "        idx[group] = groups['predict']['groups_names'][group][groups['predict']['groups_idx'][group]]\n",
    "    \n",
    "    idx['Count'] = groups['predict']['data']\n",
    "    idx['Date'] = np.tile(date_points, (groups['predict']['s'],))\n",
    "\n",
    "    df = pd.DataFrame.from_dict(idx)\n",
    "    df = df.set_index('Date')\n",
    "    \n",
    "    return df"
   ]
  },
  {
   "cell_type": "code",
   "execution_count": null,
   "metadata": {},
   "outputs": [],
   "source": [
    "tourism = prepare_data_to_R(groups, data.index)\n",
    "tourism.to_csv('../data/tourism_to_r.csv')"
   ]
  },
  {
   "cell_type": "markdown",
   "metadata": {},
   "source": [
    "# Police"
   ]
  },
  {
   "cell_type": "code",
   "execution_count": 3,
   "metadata": {},
   "outputs": [
    {
     "name": "stdout",
     "output_type": "stream",
     "text": [
      "Number of groups: 4\n",
      "\tCrime: 15\n",
      "\tBeat: 79\n",
      "\tStreet: 9\n",
      "\tZIP: 68\n",
      "Total number of series: 500\n",
      "Number of points per series for train: 275\n",
      "Total number of points: 305\n",
      "Seasonality: 7\n",
      "Forecast horizon: 30\n"
     ]
    }
   ],
   "source": [
    "police = pd.read_excel('../data/NIBRSPublicView.Jan1-Nov30-2020.xlsx')\n",
    "\n",
    "police = police.drop(['Occurrence\\nHour', 'StreetName', 'Suffix', 'NIBRSDescription', 'Premise'], axis=1)\n",
    "police.columns = ['Id','Date', 'Crime', 'Count', 'Beat', 'Block', 'Street', 'City', 'ZIP']\n",
    "police = police.drop(['Id'], axis=1)\n",
    "police = police.loc[police['City']=='HOUSTON']\n",
    "police = police.drop(['City'], axis=1)\n",
    "\n",
    "# I am not using Block since there are 11901 blocks in the data\n",
    "police = police.groupby(['Date', 'Crime', 'Beat', 'Street', 'ZIP']).sum().reset_index().set_index('Date')\n",
    "\n",
    "police['ZIP'] = police.ZIP.astype(str)\n",
    "\n",
    "# Selecting the 500 groups combinations with higher counts\n",
    "police = police.reset_index().set_index(['Crime', 'Beat', 'Street', 'ZIP']).loc[police.groupby(['Crime', 'Beat', 'Street', 'ZIP']).sum().sort_values(by=['Count'], ascending=False)[:500].index].reset_index().set_index('Date')\n",
    "\n",
    "\n",
    "police_pivot = police.reset_index().pivot(index='Date',columns=['Crime', 'Beat', 'Street', 'ZIP'], values='Count')\n",
    "police_pivot = police_pivot.fillna(0)\n",
    "\n",
    "groups_input = {\n",
    "    'Crime': [0],\n",
    "    'Beat': [1],\n",
    "    'Street': [2],\n",
    "    'ZIP': [3]\n",
    "}\n",
    "\n",
    "groups = generate_groups_data(police_pivot, groups_input, seasonality=7, h=30)"
   ]
  },
  {
   "cell_type": "code",
   "execution_count": 6,
   "metadata": {},
   "outputs": [],
   "source": [
    "police = prepare_data_to_R(groups, police.index.unique())\n",
    "police.to_csv('../data/police_to_r.csv')"
   ]
  },
  {
   "cell_type": "code",
   "execution_count": null,
   "metadata": {},
   "outputs": [],
   "source": []
  }
 ],
 "metadata": {
  "kernelspec": {
   "display_name": "Python 3",
   "language": "python",
   "name": "python3"
  },
  "language_info": {
   "codemirror_mode": {
    "name": "ipython",
    "version": 3
   },
   "file_extension": ".py",
   "mimetype": "text/x-python",
   "name": "python",
   "nbconvert_exporter": "python",
   "pygments_lexer": "ipython3",
   "version": "3.8.5"
  }
 },
 "nbformat": 4,
 "nbformat_minor": 4
}
