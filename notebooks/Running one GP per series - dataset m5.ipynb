{
 "cells": [
  {
   "cell_type": "code",
   "execution_count": 1,
   "id": "approximate-democracy",
   "metadata": {
    "_cell_guid": "b1076dfc-b9ad-4769-8c92-a6c4dae69d19",
    "_uuid": "8f2839f25d086af736a60e9eeb907d3b93b6e0e5",
    "execution": {
     "iopub.execute_input": "2021-05-20T16:33:37.781447Z",
     "iopub.status.busy": "2021-05-20T16:33:37.781052Z",
     "iopub.status.idle": "2021-05-20T16:33:38.589651Z",
     "shell.execute_reply": "2021-05-20T16:33:38.588697Z",
     "shell.execute_reply.started": "2021-05-20T16:33:37.781351Z"
    }
   },
   "outputs": [
    {
     "ename": "ModuleNotFoundError",
     "evalue": "No module named 'seaborn'",
     "output_type": "error",
     "traceback": [
      "\u001b[0;31m---------------------------------------------------------------------------\u001b[0m",
      "\u001b[0;31mModuleNotFoundError\u001b[0m                       Traceback (most recent call last)",
      "\u001b[0;32m<ipython-input-1-8e3cd4cd7d77>\u001b[0m in \u001b[0;36m<module>\u001b[0;34m\u001b[0m\n\u001b[1;32m      2\u001b[0m \u001b[0;32mimport\u001b[0m \u001b[0mnumpy\u001b[0m \u001b[0;32mas\u001b[0m \u001b[0mnp\u001b[0m\u001b[0;34m\u001b[0m\u001b[0;34m\u001b[0m\u001b[0m\n\u001b[1;32m      3\u001b[0m \u001b[0;32mimport\u001b[0m \u001b[0mmatplotlib\u001b[0m\u001b[0;34m.\u001b[0m\u001b[0mpylab\u001b[0m \u001b[0;32mas\u001b[0m \u001b[0mplt\u001b[0m\u001b[0;34m\u001b[0m\u001b[0;34m\u001b[0m\u001b[0m\n\u001b[0;32m----> 4\u001b[0;31m \u001b[0;32mimport\u001b[0m \u001b[0mseaborn\u001b[0m \u001b[0;32mas\u001b[0m \u001b[0msns\u001b[0m\u001b[0;34m\u001b[0m\u001b[0;34m\u001b[0m\u001b[0m\n\u001b[0m\u001b[1;32m      5\u001b[0m \u001b[0;32mfrom\u001b[0m \u001b[0mitertools\u001b[0m \u001b[0;32mimport\u001b[0m \u001b[0mcycle\u001b[0m\u001b[0;34m\u001b[0m\u001b[0;34m\u001b[0m\u001b[0m\n\u001b[1;32m      6\u001b[0m \u001b[0mpd\u001b[0m\u001b[0;34m.\u001b[0m\u001b[0mset_option\u001b[0m\u001b[0;34m(\u001b[0m\u001b[0;34m'max_columns'\u001b[0m\u001b[0;34m,\u001b[0m \u001b[0;36m50\u001b[0m\u001b[0;34m)\u001b[0m\u001b[0;34m\u001b[0m\u001b[0;34m\u001b[0m\u001b[0m\n",
      "\u001b[0;31mModuleNotFoundError\u001b[0m: No module named 'seaborn'"
     ]
    }
   ],
   "source": [
    "import pandas as pd\n",
    "import numpy as np\n",
    "import matplotlib.pylab as plt\n",
    "from itertools import cycle\n",
    "pd.set_option('max_columns', 50)\n",
    "plt.style.use('bmh')\n",
    "color_pal = plt.rcParams['axes.prop_cycle'].by_key()['color']\n",
    "color_cycle = cycle(plt.rcParams['axes.prop_cycle'].by_key()['color'])"
   ]
  },
  {
   "cell_type": "code",
   "execution_count": null,
   "id": "editorial-sympathy",
   "metadata": {
    "execution": {
     "iopub.execute_input": "2021-05-20T16:33:39.340724Z",
     "iopub.status.busy": "2021-05-20T16:33:39.34027Z",
     "iopub.status.idle": "2021-05-20T16:33:51.621147Z",
     "shell.execute_reply": "2021-05-20T16:33:51.620214Z",
     "shell.execute_reply.started": "2021-05-20T16:33:39.340674Z"
    }
   },
   "outputs": [],
   "source": [
    "# Read in the data\n",
    "INPUT_DIR = 'm5-data'\n",
    "cal = pd.read_csv(f'{INPUT_DIR}/calendar.csv')\n",
    "stv = pd.read_csv(f'{INPUT_DIR}/sales_train_validation.csv')\n",
    "ss = pd.read_csv(f'{INPUT_DIR}/sample_submission.csv')\n",
    "sellp = pd.read_csv(f'{INPUT_DIR}/sell_prices.csv')"
   ]
  },
  {
   "cell_type": "markdown",
   "id": "other-frequency",
   "metadata": {},
   "source": [
    "We are given historic sales data in the `sales_train_validation` dataset.\n",
    "- rows exist in this dataset for days d_1 to d_1913. We are given the department, category, state, and store id of the item.\n",
    "- d_1914 - d_1941 represents the `validation` rows which we will predict in stage 1\n",
    "- d_1942 - d_1969 represents the `evaluation` rows which we will predict for the final competition standings."
   ]
  },
  {
   "cell_type": "code",
   "execution_count": null,
   "id": "amateur-audit",
   "metadata": {
    "execution": {
     "iopub.execute_input": "2021-05-20T16:33:51.675191Z",
     "iopub.status.busy": "2021-05-20T16:33:51.674769Z",
     "iopub.status.idle": "2021-05-20T16:33:51.6916Z",
     "shell.execute_reply": "2021-05-20T16:33:51.690845Z",
     "shell.execute_reply.started": "2021-05-20T16:33:51.675148Z"
    }
   },
   "outputs": [],
   "source": [
    "# Calendar data looks like this (only showing columns we care about for now)\n",
    "cal[['d','date','event_name_1','event_name_2',\n",
    "     'event_type_1','event_type_2', 'snap_CA']].head()"
   ]
  },
  {
   "cell_type": "code",
   "execution_count": null,
   "id": "activated-georgia",
   "metadata": {
    "execution": {
     "iopub.execute_input": "2021-05-20T16:33:51.693313Z",
     "iopub.status.busy": "2021-05-20T16:33:51.692715Z",
     "iopub.status.idle": "2021-05-20T16:33:51.962867Z",
     "shell.execute_reply": "2021-05-20T16:33:51.9614Z",
     "shell.execute_reply.started": "2021-05-20T16:33:51.693273Z"
    }
   },
   "outputs": [],
   "source": [
    "d_cols = [c for c in stv.columns if 'd_' in c] # sales data columns\n",
    "\n",
    "# Below we are chaining the following steps in pandas:\n",
    "# 1. Select the item.\n",
    "# 2. Set the id as the index, Keep only sales data columns\n",
    "# 3. Transform so it's a column\n",
    "# 4. Plot the data\n",
    "stv.loc[stv['id'] == 'FOODS_3_090_CA_3_validation'] \\\n",
    "    .set_index('id')[d_cols] \\\n",
    "    .T \\\n",
    "    .plot(figsize=(15, 5),\n",
    "          title='FOODS_3_090_CA_3 sales by \"d\" number',\n",
    "          color=next(color_cycle))\n",
    "plt.legend('')\n",
    "plt.show()"
   ]
  },
  {
   "cell_type": "code",
   "execution_count": null,
   "id": "future-wagner",
   "metadata": {
    "execution": {
     "iopub.execute_input": "2021-05-20T16:33:51.964867Z",
     "iopub.status.busy": "2021-05-20T16:33:51.964461Z",
     "iopub.status.idle": "2021-05-20T16:33:52.19868Z",
     "shell.execute_reply": "2021-05-20T16:33:52.197669Z",
     "shell.execute_reply.started": "2021-05-20T16:33:51.964823Z"
    }
   },
   "outputs": [],
   "source": [
    "# Merge calendar on our items' data\n",
    "example = stv.loc[stv['id'] == 'FOODS_3_090_CA_3_validation'][d_cols].T\n",
    "example = example.rename(columns={8412:'FOODS_3_090_CA_3'}) # Name it correctly\n",
    "example = example.reset_index().rename(columns={'index': 'd'}) # make the index \"d\"\n",
    "example = example.merge(cal, how='left', validate='1:1')\n",
    "example.set_index('date')['FOODS_3_090_CA_3'] \\\n",
    "    .plot(figsize=(15, 5),\n",
    "          color=next(color_cycle),\n",
    "          title='FOODS_3_090_CA_3 sales by actual sale dates')\n",
    "plt.show()"
   ]
  },
  {
   "cell_type": "code",
   "execution_count": null,
   "id": "blocked-death",
   "metadata": {
    "execution": {
     "iopub.execute_input": "2021-05-20T16:33:52.206257Z",
     "iopub.status.busy": "2021-05-20T16:33:52.205854Z",
     "iopub.status.idle": "2021-05-20T16:33:52.213702Z",
     "shell.execute_reply": "2021-05-20T16:33:52.212718Z",
     "shell.execute_reply.started": "2021-05-20T16:33:52.206195Z"
    }
   },
   "outputs": [],
   "source": [
    "stv.columns[:6]"
   ]
  },
  {
   "cell_type": "code",
   "execution_count": null,
   "id": "extra-fitting",
   "metadata": {
    "execution": {
     "iopub.execute_input": "2021-05-20T16:33:52.215756Z",
     "iopub.status.busy": "2021-05-20T16:33:52.215259Z",
     "iopub.status.idle": "2021-05-20T16:33:52.37431Z",
     "shell.execute_reply": "2021-05-20T16:33:52.373249Z",
     "shell.execute_reply.started": "2021-05-20T16:33:52.215713Z"
    }
   },
   "outputs": [],
   "source": [
    "print(f'Number of unique items: {np.unique(stv.item_id).shape[0]}')\n",
    "print(f'Number of unique department: {np.unique(stv.dept_id).shape[0]}')\n",
    "print(f'Number of unique categories: {np.unique(stv.cat_id).shape[0]}')\n",
    "print(f'Number of unique stores: {np.unique(stv.store_id).shape[0]}')\n",
    "print(f'Number of unique states: {np.unique(stv.state_id).shape[0]}')"
   ]
  },
  {
   "cell_type": "code",
   "execution_count": null,
   "id": "identical-belief",
   "metadata": {
    "execution": {
     "iopub.execute_input": "2021-05-20T16:33:52.376476Z",
     "iopub.status.busy": "2021-05-20T16:33:52.376043Z",
     "iopub.status.idle": "2021-05-20T16:34:06.491076Z",
     "shell.execute_reply": "2021-05-20T16:34:06.490172Z",
     "shell.execute_reply.started": "2021-05-20T16:33:52.376434Z"
    }
   },
   "outputs": [],
   "source": [
    "# Transform column wide days to single column \n",
    "\n",
    "stv = stv.melt(list(stv.columns[:6]), var_name='day', value_vars=list(stv.columns[6:]), ignore_index=True)"
   ]
  },
  {
   "cell_type": "code",
   "execution_count": null,
   "id": "uniform-visitor",
   "metadata": {
    "execution": {
     "iopub.execute_input": "2021-05-20T16:34:06.492717Z",
     "iopub.status.busy": "2021-05-20T16:34:06.492439Z",
     "iopub.status.idle": "2021-05-20T16:34:43.396554Z",
     "shell.execute_reply": "2021-05-20T16:34:43.395463Z",
     "shell.execute_reply.started": "2021-05-20T16:34:06.492682Z"
    }
   },
   "outputs": [],
   "source": [
    "# Group by the groups to consider (remove product_id as there are 3049 unique) \n",
    "\n",
    "stv = stv.groupby(['dept_id', 'cat_id', 'store_id', 'state_id', 'day']).sum('value').reset_index()"
   ]
  },
  {
   "cell_type": "code",
   "execution_count": null,
   "id": "closing-guarantee",
   "metadata": {
    "execution": {
     "iopub.execute_input": "2021-05-20T16:34:43.399863Z",
     "iopub.status.busy": "2021-05-20T16:34:43.399276Z",
     "iopub.status.idle": "2021-05-20T16:34:43.418248Z",
     "shell.execute_reply": "2021-05-20T16:34:43.417461Z",
     "shell.execute_reply.started": "2021-05-20T16:34:43.399818Z"
    }
   },
   "outputs": [],
   "source": [
    "days_calendar = np.concatenate((stv['day'].unique().reshape(-1,1), cal['date'][:-56].unique().reshape(-1,1)), axis=1)\n",
    "df_caldays = pd.DataFrame(days_calendar, columns = ['day','Date'])"
   ]
  },
  {
   "cell_type": "code",
   "execution_count": null,
   "id": "center-peripheral",
   "metadata": {
    "execution": {
     "iopub.execute_input": "2021-05-20T16:34:43.420169Z",
     "iopub.status.busy": "2021-05-20T16:34:43.41957Z",
     "iopub.status.idle": "2021-05-20T16:34:43.470379Z",
     "shell.execute_reply": "2021-05-20T16:34:43.469538Z",
     "shell.execute_reply.started": "2021-05-20T16:34:43.420124Z"
    }
   },
   "outputs": [],
   "source": [
    "# Add calendar days\n",
    "\n",
    "stv = stv.merge(df_caldays, how='left', on='day')"
   ]
  },
  {
   "cell_type": "code",
   "execution_count": null,
   "id": "aboriginal-kernel",
   "metadata": {
    "execution": {
     "iopub.execute_input": "2021-05-20T16:34:43.472132Z",
     "iopub.status.busy": "2021-05-20T16:34:43.471561Z",
     "iopub.status.idle": "2021-05-20T16:34:43.52098Z",
     "shell.execute_reply": "2021-05-20T16:34:43.520194Z",
     "shell.execute_reply.started": "2021-05-20T16:34:43.472092Z"
    }
   },
   "outputs": [],
   "source": [
    "stv['Date'] = stv['Date'].astype('datetime64[ns]')\n",
    "stv.dtypes"
   ]
  },
  {
   "cell_type": "code",
   "execution_count": null,
   "id": "stuffed-survivor",
   "metadata": {
    "execution": {
     "iopub.execute_input": "2021-05-20T16:34:43.522565Z",
     "iopub.status.busy": "2021-05-20T16:34:43.522113Z",
     "iopub.status.idle": "2021-05-20T16:34:45.225076Z",
     "shell.execute_reply": "2021-05-20T16:34:45.224131Z",
     "shell.execute_reply.started": "2021-05-20T16:34:43.522521Z"
    }
   },
   "outputs": [],
   "source": [
    "# Transform in weekly data\n",
    "\n",
    "stv_weekly = stv.groupby(['dept_id', 'cat_id', 'store_id', 'state_id']).resample('W', on='Date')['value'].sum()"
   ]
  },
  {
   "cell_type": "code",
   "execution_count": null,
   "id": "reliable-contact",
   "metadata": {
    "execution": {
     "iopub.execute_input": "2021-05-20T16:34:45.241536Z",
     "iopub.status.busy": "2021-05-20T16:34:45.241106Z",
     "iopub.status.idle": "2021-05-20T16:34:45.274836Z",
     "shell.execute_reply": "2021-05-20T16:34:45.273821Z",
     "shell.execute_reply.started": "2021-05-20T16:34:45.241501Z"
    }
   },
   "outputs": [],
   "source": [
    "# Build the structure to then apply the grouping transformation\n",
    "\n",
    "stv_pivot = stv_weekly.reset_index().pivot(index='Date',columns=['dept_id', 'cat_id', 'store_id', 'state_id'], values='value')\n",
    "stv_pivot = stv_pivot.fillna(0)"
   ]
  },
  {
   "cell_type": "code",
   "execution_count": null,
   "id": "abstract-passenger",
   "metadata": {
    "execution": {
     "iopub.execute_input": "2021-05-20T16:34:49.740017Z",
     "iopub.status.busy": "2021-05-20T16:34:49.739749Z",
     "iopub.status.idle": "2021-05-20T16:34:49.744079Z",
     "shell.execute_reply": "2021-05-20T16:34:49.743181Z",
     "shell.execute_reply.started": "2021-05-20T16:34:49.739991Z"
    }
   },
   "outputs": [],
   "source": [
    "groups_input = {\n",
    "    'Department': [0],\n",
    "    'Category': [1],\n",
    "    'Store': [2],\n",
    "    'State': [3]\n",
    "}"
   ]
  },
  {
   "cell_type": "code",
   "execution_count": 6,
   "id": "radical-communications",
   "metadata": {},
   "outputs": [],
   "source": [
    "# transform the data to matrix form\n",
    "g = generate_groups_data_matrix(groups)\n",
    "dt = data_transform(g)\n",
    "\n",
    "# if likelihood is normal standardize data\n",
    "g = dt.std_transf_train()"
   ]
  },
  {
   "cell_type": "code",
   "execution_count": 7,
   "id": "proof-absence",
   "metadata": {},
   "outputs": [
    {
     "data": {
      "image/png": "[encoded data removed]",
      "text/plain": [
       "<Figure size 720x480 with 1 Axes>"
      ]
     },
     "metadata": {},
     "output_type": "display_data"
    }
   ],
   "source": [
    "plt.plot(g['train']['data'].T[0]);"
   ]
  },
  {
   "cell_type": "code",
   "execution_count": 8,
   "id": "passing-country",
   "metadata": {},
   "outputs": [],
   "source": [
    "g['train']['data'] = g['train']['data'].T"
   ]
  },
  {
   "cell_type": "code",
   "execution_count": 9,
   "id": "eastern-buddy",
   "metadata": {},
   "outputs": [],
   "source": [
    "X = np.arange(groups['train']['n']).reshape(-1,1)\n",
    "X_new = np.arange(groups['predict']['n']).reshape(-1,1)"
   ]
  },
  {
   "cell_type": "code",
   "execution_count": 10,
   "id": "fifteen-zimbabwe",
   "metadata": {},
   "outputs": [
    {
     "data": {
      "text/plain": [
       "array([ 8., 16., 24., 32.])"
      ]
     },
     "execution_count": 10,
     "metadata": {},
     "output_type": "execute_result"
    }
   ],
   "source": [
    "changepoints = 4\n",
    "changepoints_t = np.linspace(0, groups['train']['n'], changepoints + 2)[1:-1]\n",
    "changepoints_t"
   ]
  },
  {
   "cell_type": "code",
   "execution_count": 11,
   "id": "paperback-ending",
   "metadata": {},
   "outputs": [],
   "source": [
    "class OutPiecewiseLinearChangepoints():\n",
    "    # Piecewise linear function applied outside of the GPs and added in the likelihood parameter\n",
    "    def __init__(self, \n",
    "                 k, \n",
    "                 m,\n",
    "                 b,\n",
    "                 changepoints,\n",
    "                 groups):\n",
    "        self.k = k\n",
    "        self.m = m\n",
    "        self.b = b\n",
    "        self.g = groups\n",
    "        self.changepoints = changepoints\n",
    "\n",
    "    def create_changepoints(self, X, changepoints):\n",
    "        return (0.5 * (1.0 + tt.sgn(tt.tile(X.reshape((-1,1)), (1,len(changepoints))) - changepoints)))\n",
    "\n",
    "    def build(self, X):\n",
    "        size_r = X.shape[0]\n",
    "\n",
    "        X = theano.shared(X)\n",
    "            \n",
    "        A = self.create_changepoints(X, self.changepoints)\n",
    "\n",
    "        piecewise = (self.k.reshape((1, -1)) + tt.dot(A, self.b))*X+ (self.m.reshape((1,-1)) + tt.dot(A, (-self.changepoints.reshape((-1,1)) * self.b)))\n",
    "        \n",
    "        return piecewise"
   ]
  },
  {
   "cell_type": "code",
   "execution_count": 12,
   "id": "small-climb",
   "metadata": {},
   "outputs": [],
   "source": [
    "n_samples = 200\n",
    "n = groups['predict']['n']\n",
    "s = groups['predict']['s']"
   ]
  },
  {
   "cell_type": "code",
   "execution_count": null,
   "id": "activated-campus",
   "metadata": {
    "scrolled": false
   },
   "outputs": [
    {
     "name": "stdout",
     "output_type": "stream",
     "text": [
      "0.001\n"
     ]
    }
   ],
   "source": [
    "p_s_fit = []\n",
    "p_s_predict = []\n",
    "\n",
    "σ_list = [0.001, 0.01]\n",
    "\n",
    "for i in range(groups['train']['s']):\n",
    "        \n",
    "        for sig in σ_list:\n",
    "            try:\n",
    "                with pm.Model() as model:\n",
    "                    period = pm.Gamma('period', 40, 10)\n",
    "\n",
    "                    l_t = pm.InverseGamma('l_t', 4, 40)\n",
    "                    l_p = pm.HalfNormal('l_p', 0.5)\n",
    "                    η_trend = pm.HalfNormal('η_trend',1)\n",
    "                    η_per = pm.HalfNormal('η_per',1.5)\n",
    "                    print(sig)\n",
    "                    σ  = pm.HalfNormal(\"σ\",  sigma=sig)\n",
    "\n",
    "                    mu_func = pm.gp.mean.Zero()\n",
    "\n",
    "                    # cov function for the GP \n",
    "                    cov = (η_trend**2 * pm.gp.cov.ExpQuad(input_dim=1, ls=l_t)\n",
    "                            + η_per**2 * pm.gp.cov.Periodic(1, period=period, ls=l_p) \n",
    "                            + pm.gp.cov.WhiteNoise(σ))\n",
    "\n",
    "                    gp = pm.gp.Latent(mean_func=mu_func, cov_func=cov)\n",
    "                    f = gp.prior('f', X=X, reparameterize=True)\n",
    "\n",
    "                    k = pm.Normal(\"k\", mu=0, sigma=0.01)\n",
    "                    m = pm.Normal(\"m\", mu=0, sigma=0.01)\n",
    "                    delta = pm.Normal(\"delta\", mu=0, sigma=0.01, shape=(len(changepoints_t),1))\n",
    "\n",
    "                    piece = OutPiecewiseLinearChangepoints(k = k,\n",
    "                                                          m = m,\n",
    "                                                          b = delta,\n",
    "                                                          changepoints = changepoints_t,\n",
    "                                                          groups = g).build(X)\n",
    "                    piece = piece.reshape((-1,))\n",
    "\n",
    "                    y_pred = pm.Normal('y_pred', mu=f + piece, observed=g['train']['data'][i])\n",
    "                    mp = pm.find_MAP(maxeval=10000, progressbar = False)\n",
    "                break\n",
    "\n",
    "            except:\n",
    "                print(f'Error on fitting series {i}')\n",
    "        \n",
    "        try:\n",
    "            with model:\n",
    "                pred_samples_fit = pm.sample_posterior_predictive([mp], \n",
    "                                              vars=[y_pred], \n",
    "                                              samples=n_samples,\n",
    "                                              progressbar=False)\n",
    "\n",
    "                f_n = gp.conditional('f_n', Xnew=X_new)\n",
    "\n",
    "                piece = OutPiecewiseLinearChangepoints(k = k,\n",
    "                                                      m = m,\n",
    "                                                      b = delta,\n",
    "                                                      changepoints = changepoints_t,\n",
    "                                                      groups = g).build(X_new)\n",
    "\n",
    "                piece = piece.reshape((-1,))\n",
    "\n",
    "                y_pred_new = pm.Normal(\"y_pred_new\", \n",
    "                                        mu=f_n + piece, \n",
    "                                        shape=X_new.shape[0])\n",
    "\n",
    "                pred_samples_predict = pm.sample_posterior_predictive([mp], \n",
    "                                                          vars=[y_pred_new], \n",
    "                                                          samples=n_samples,\n",
    "                                                          progressbar = False)\n",
    "\n",
    "            print('Predicted ' + str(i)+'/'+str(groups['train']['s']-1))\n",
    "            p_s_fit.append(pred_samples_fit['y_pred'])\n",
    "            p_s_predict.append(pred_samples_predict['y_pred_new'])\n",
    "            \n",
    "        except:\n",
    "            print(f'Error on predicting series {i}')"
   ]
  },
  {
   "cell_type": "code",
   "execution_count": null,
   "id": "conditional-sample",
   "metadata": {},
   "outputs": [],
   "source": [
    "p_s_fit = np.asarray(p_s_fit)\n",
    "p_s_predict = np.asarray(p_s_predict)\n",
    "p_s_fit = p_s_fit.transpose(1, 2, 0)\n",
    "p_s_predict = p_s_predict.transpose(1, 2, 0)"
   ]
  },
  {
   "cell_type": "code",
   "execution_count": null,
   "id": "bigger-bargain",
   "metadata": {},
   "outputs": [],
   "source": [
    "g['train']['data'] = g['train']['data'].T"
   ]
  },
  {
   "cell_type": "code",
   "execution_count": null,
   "id": "apart-asbestos",
   "metadata": {},
   "outputs": [],
   "source": [
    "# Back transform the data and the predictions\n",
    "\n",
    "p_s_fit_inv = dt.inv_transf_train_general(p_s_fit)\n",
    "p_s_predict_inv = dt.inv_transf_predict_general(p_s_predict)\n",
    "g = dt.inv_transf_train()"
   ]
  },
  {
   "cell_type": "code",
   "execution_count": null,
   "id": "indian-nicaragua",
   "metadata": {},
   "outputs": [],
   "source": [
    "visualize_fit(g, p_s_fit_inv, 8)"
   ]
  },
  {
   "cell_type": "code",
   "execution_count": null,
   "id": "plain-association",
   "metadata": {
    "scrolled": false
   },
   "outputs": [],
   "source": [
    "visualize_predict(g, p_s_predict_inv, g['h'])"
   ]
  },
  {
   "cell_type": "code",
   "execution_count": null,
   "id": "polish-spank",
   "metadata": {},
   "outputs": [],
   "source": [
    "results = calculate_metrics(p_s_predict_inv, groups)\n",
    "metrics_to_table( results)"
   ]
  },
  {
   "cell_type": "code",
   "execution_count": null,
   "id": "coated-father",
   "metadata": {},
   "outputs": [],
   "source": []
  },
  {
   "cell_type": "code",
   "execution_count": null,
   "id": "light-standing",
   "metadata": {},
   "outputs": [],
   "source": []
  }
 ],
 "metadata": {
  "kernelspec": {
   "display_name": "Python 3",
   "language": "python",
   "name": "python3"
  },
  "language_info": {
   "codemirror_mode": {
    "name": "ipython",
    "version": 3
   },
   "file_extension": ".py",
   "mimetype": "text/x-python",
   "name": "python",
   "nbconvert_exporter": "python",
   "pygments_lexer": "ipython3",
   "version": "3.7.9"
  }
 },
 "nbformat": 4,
 "nbformat_minor": 5
}
