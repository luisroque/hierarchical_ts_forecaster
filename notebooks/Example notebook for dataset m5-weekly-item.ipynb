{
 "cells": [
  {
   "cell_type": "code",
   "execution_count": 34,
   "metadata": {
    "_cell_guid": "b1076dfc-b9ad-4769-8c92-a6c4dae69d19",
    "_uuid": "8f2839f25d086af736a60e9eeb907d3b93b6e0e5",
    "execution": {
     "iopub.execute_input": "2021-05-20T16:33:37.781447Z",
     "iopub.status.busy": "2021-05-20T16:33:37.781052Z",
     "iopub.status.idle": "2021-05-20T16:33:38.589651Z",
     "shell.execute_reply": "2021-05-20T16:33:38.588697Z",
     "shell.execute_reply.started": "2021-05-20T16:33:37.781351Z"
    }
   },
   "outputs": [],
   "source": [
    "import pandas as pd\n",
    "import numpy as np\n",
    "import matplotlib.pylab as plt\n",
    "from itertools import cycle\n",
    "pd.set_option('max_columns', 50)\n",
    "plt.style.use('bmh')\n",
    "color_pal = plt.rcParams['axes.prop_cycle'].by_key()['color']\n",
    "color_cycle = cycle(plt.rcParams['axes.prop_cycle'].by_key()['color'])\n",
    "\n",
    "import os, sys\n",
    "dir2 = os.path.abspath('')\n",
    "dir1 = os.path.dirname(dir2)\n",
    "if not dir1 in sys.path: sys.path.append(dir1)\n",
    "from libs.metrics import calculate_metrics, metrics_to_table, metrics_to_latex\n",
    "from libs.pre_processing import generate_groups_data_flat, generate_groups_data_matrix\n",
    "from libs.visual_analysis import visualize_fit, visualize_predict, traceplot, visualize_prior, model_graph\n",
    "from libs.model import HGPforecaster, PiecewiseLinearChangepoints\n",
    "\n",
    "import theano\n",
    "theano.config.compute_test_value='raise'"
   ]
  },
  {
   "cell_type": "code",
   "execution_count": 2,
   "metadata": {
    "execution": {
     "iopub.execute_input": "2021-05-20T16:33:39.340724Z",
     "iopub.status.busy": "2021-05-20T16:33:39.34027Z",
     "iopub.status.idle": "2021-05-20T16:33:51.621147Z",
     "shell.execute_reply": "2021-05-20T16:33:51.620214Z",
     "shell.execute_reply.started": "2021-05-20T16:33:39.340674Z"
    }
   },
   "outputs": [],
   "source": [
    "# Read in the data\n",
    "INPUT_DIR = '../benchmark/m5-data'\n",
    "cal = pd.read_csv(f'{INPUT_DIR}/calendar.csv')\n",
    "stv = pd.read_csv(f'{INPUT_DIR}/sales_train_validation.csv')\n",
    "ss = pd.read_csv(f'{INPUT_DIR}/sample_submission.csv')\n",
    "sellp = pd.read_csv(f'{INPUT_DIR}/sell_prices.csv')"
   ]
  },
  {
   "cell_type": "code",
   "execution_count": 8,
   "metadata": {
    "execution": {
     "iopub.execute_input": "2021-05-20T16:33:52.215756Z",
     "iopub.status.busy": "2021-05-20T16:33:52.215259Z",
     "iopub.status.idle": "2021-05-20T16:33:52.37431Z",
     "shell.execute_reply": "2021-05-20T16:33:52.373249Z",
     "shell.execute_reply.started": "2021-05-20T16:33:52.215713Z"
    }
   },
   "outputs": [
    {
     "name": "stdout",
     "output_type": "stream",
     "text": [
      "Number of unique items: 3049\n",
      "Number of unique department: 7\n",
      "Number of unique categories: 3\n",
      "Number of unique stores: 10\n",
      "Number of unique states: 3\n"
     ]
    }
   ],
   "source": [
    "print(f'Number of unique items: {np.unique(stv.item_id).shape[0]}')\n",
    "print(f'Number of unique department: {np.unique(stv.dept_id).shape[0]}')\n",
    "print(f'Number of unique categories: {np.unique(stv.cat_id).shape[0]}')\n",
    "print(f'Number of unique stores: {np.unique(stv.store_id).shape[0]}')\n",
    "print(f'Number of unique states: {np.unique(stv.state_id).shape[0]}')"
   ]
  },
  {
   "cell_type": "code",
   "execution_count": null,
   "metadata": {},
   "outputs": [],
   "source": [
    "# Transform column wide days to single column \n",
    "\n",
    "stv = stv.melt(list(stv.columns[:6]), var_name='day', value_vars=list(stv.columns[6:]), ignore_index=True)\n",
    "\n",
    "# Group by the groups to consider (remove product_id as there are 3049 unique) \n",
    "\n",
    "stv = stv.groupby(['dept_id', 'cat_id', 'store_id', 'state_id', 'item_id', 'day']).sum('value').reset_index()\n",
    "\n",
    "days_calendar = np.concatenate((stv['day'].unique().reshape(-1,1), cal['date'][:-56].unique().reshape(-1,1)), axis=1)\n",
    "df_caldays = pd.DataFrame(days_calendar, columns = ['day','Date'])\n",
    "\n",
    "# Add calendar days\n",
    "\n",
    "stv = stv.merge(df_caldays, how='left', on='day')\n",
    "\n",
    "stv['Date'] = stv['Date'].astype('datetime64[ns]')\n",
    "stv.dtypes\n",
    "\n",
    "stv = stv.loc[stv['cat_id']=='FOODS']\n",
    "\n",
    "# Transform in weekly data\n",
    "\n",
    "stv_weekly = stv.groupby(['dept_id', 'store_id', 'state_id', 'item_id']).resample('W', on='Date')['value'].sum()\n",
    "\n",
    "# Build the structure to then apply the grouping transformation\n",
    "\n",
    "stv_pivot = stv_weekly.reset_index().pivot(index='Date',columns=['dept_id', 'cat_id', 'store_id', 'state_id', 'item_id'], values='value')\n",
    "stv_pivot = stv_pivot.fillna(0)\n",
    "\n",
    "groups_input = {\n",
    "    'Department': [0],\n",
    "    'Store': [1],\n",
    "    'State': [2],\n",
    "    'Item': [3]\n",
    "}"
   ]
  },
  {
   "cell_type": "code",
   "execution_count": 35,
   "metadata": {
    "execution": {
     "iopub.execute_input": "2021-05-20T16:34:49.745503Z",
     "iopub.status.busy": "2021-05-20T16:34:49.745189Z",
     "iopub.status.idle": "2021-05-20T16:34:49.769532Z",
     "shell.execute_reply": "2021-05-20T16:34:49.768539Z",
     "shell.execute_reply.started": "2021-05-20T16:34:49.745468Z"
    },
    "scrolled": true
   },
   "outputs": [
    {
     "name": "stdout",
     "output_type": "stream",
     "text": [
      "Number of groups: 4\n",
      "\tDepartment: 7\n",
      "\tCategory: 3\n",
      "\tStore: 10\n",
      "\tState: 3\n",
      "Total number of series: 70\n",
      "Number of points per series for train: 359\n",
      "Total number of points: 389\n",
      "Seasonality: 7\n",
      "Forecast horizon: 30\n"
     ]
    }
   ],
   "source": [
    "# The dataset results from the removal of item_id (groupby by the ohter groups) and by downsampling to weekly data (the dataset was daily)\n",
    "\n",
    "groups = generate_groups_data_flat(stv_pivot, groups_input, seasonality=52, h=18)"
   ]
  },
  {
   "cell_type": "code",
   "execution_count": 36,
   "metadata": {
    "execution": {
     "iopub.execute_input": "2021-05-20T16:40:22.606475Z",
     "iopub.status.busy": "2021-05-20T16:40:22.606079Z",
     "iopub.status.idle": "2021-05-20T16:40:22.612413Z",
     "shell.execute_reply": "2021-05-20T16:40:22.61138Z",
     "shell.execute_reply.started": "2021-05-20T16:40:22.60644Z"
    }
   },
   "outputs": [],
   "source": [
    "# Instantiate the model class\n",
    "m = HGPforecaster(groups_data=groups,\n",
    "                  n_iterations=100000,\n",
    "                  changepoints = 4,\n",
    "                  piecewise_out=True)"
   ]
  },
  {
   "cell_type": "code",
   "execution_count": null,
   "metadata": {
    "execution": {
     "iopub.execute_input": "2021-05-20T16:40:47.33952Z",
     "iopub.status.busy": "2021-05-20T16:40:47.339147Z"
    }
   },
   "outputs": [],
   "source": [
    "# Prior checks\n",
    "m.prior_predictive_checks()\n",
    "visualize_prior(groups, m.prior_checks, 8)"
   ]
  },
  {
   "cell_type": "code",
   "execution_count": null,
   "metadata": {},
   "outputs": [],
   "source": [
    "# Fit and predict\n",
    "m.fit_vi()\n",
    "m.predict()"
   ]
  },
  {
   "cell_type": "code",
   "execution_count": null,
   "metadata": {
    "scrolled": false
   },
   "outputs": [],
   "source": [
    "# Visualize your predictions and credible intervals\n",
    "visualize_predict(groups, m.pred_samples_predict, 8)"
   ]
  },
  {
   "cell_type": "code",
   "execution_count": null,
   "metadata": {},
   "outputs": [],
   "source": [
    "# Print the overall resuls\n",
    "results = calculate_metrics(m.pred_samples_predict, groups)\n",
    "metrics_to_table(results)"
   ]
  }
 ],
 "metadata": {
  "kernelspec": {
   "display_name": "Python 3",
   "language": "python",
   "name": "python3"
  },
  "language_info": {
   "codemirror_mode": {
    "name": "ipython",
    "version": 3
   },
   "file_extension": ".py",
   "mimetype": "text/x-python",
   "name": "python",
   "nbconvert_exporter": "python",
   "pygments_lexer": "ipython3",
   "version": "3.7.9"
  }
 },
 "nbformat": 4,
 "nbformat_minor": 4
}
