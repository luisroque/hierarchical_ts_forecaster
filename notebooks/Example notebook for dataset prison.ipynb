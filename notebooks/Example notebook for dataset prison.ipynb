{
 "cells": [
  {
   "cell_type": "code",
   "execution_count": 1,
   "metadata": {},
   "outputs": [],
   "source": [
    "import warnings\n",
    "import pandas as pd\n",
    "import arviz as az\n",
    "\n",
    "import os, sys\n",
    "dir2 = os.path.abspath('')\n",
    "dir1 = os.path.dirname(dir2)\n",
    "if not dir1 in sys.path: sys.path.append(dir1)\n",
    "#from libs.model import HGPforecaster\n",
    "from libs.metrics import calculate_metrics, metrics_to_table, metrics_to_latex\n",
    "from libs.pre_processing import generate_groups_data_flat\n",
    "from libs.visual_analysis import visualize_fit, visualize_predict\n",
    "from libs.model import HGPforecaster\n",
    "import numpy as np\n",
    "az.style.use('arviz-darkgrid')\n",
    "warnings.filterwarnings('ignore')\n",
    "\n",
    "import theano\n",
    "theano.config.compute_test_value='raise'\n",
    "#theano.config.compute_test_value = \"warn\""
   ]
  },
  {
   "cell_type": "code",
   "execution_count": 2,
   "metadata": {},
   "outputs": [],
   "source": [
    "prison = pd.read_csv('../data/prisonLF.csv', sep=\",\")\n",
    "prison = prison.drop('Unnamed: 0', axis =1)\n",
    "prison['t'] = prison['t'].astype('datetime64[ns]')"
   ]
  },
  {
   "cell_type": "code",
   "execution_count": 3,
   "metadata": {},
   "outputs": [],
   "source": [
    "prison_pivot = prison.pivot(index='t',columns=['state', 'gender', 'legal'], values='count')"
   ]
  },
  {
   "cell_type": "code",
   "execution_count": 4,
   "metadata": {},
   "outputs": [],
   "source": [
    "groups_input = {\n",
    "    'state': [0],\n",
    "    'gender': [1],\n",
    "    'legal': [2]\n",
    "}"
   ]
  },
  {
   "cell_type": "code",
   "execution_count": 5,
   "metadata": {},
   "outputs": [
    {
     "name": "stdout",
     "output_type": "stream",
     "text": [
      "Number of groups: 3\n",
      "\tstate: 8\n",
      "\tgender: 2\n",
      "\tlegal: 2\n",
      "Total number of series: 32\n",
      "Number of points per series for train: 40\n",
      "Total number of points: 48\n",
      "Seasonality: 4\n",
      "Forecast horizon: 8\n"
     ]
    }
   ],
   "source": [
    "groups = generate_groups_data_flat(y = prison_pivot, \n",
    "                               groups_input = groups_input, \n",
    "                               seasonality=4, \n",
    "                               h=8)"
   ]
  },
  {
   "cell_type": "markdown",
   "metadata": {},
   "source": [
    "# Testing with minibatch"
   ]
  },
  {
   "cell_type": "code",
   "execution_count": 6,
   "metadata": {},
   "outputs": [],
   "source": [
    "m = HGPforecaster(groups_data=groups,\n",
    "                  n_iterations=100000,\n",
    "                  log_lin_mean=True)#,\n",
    "                  #minibatch=[30,20])"
   ]
  },
  {
   "cell_type": "code",
   "execution_count": null,
   "metadata": {
    "scrolled": false
   },
   "outputs": [
    {
     "name": "stdout",
     "output_type": "stream",
     "text": [
      "Fitting model...\n"
     ]
    },
    {
     "data": {
      "text/html": [
       "\n",
       "    <div>\n",
       "        <style>\n",
       "            /* Turns off some styling */\n",
       "            progress {\n",
       "                /* gets rid of default border in Firefox and Opera. */\n",
       "                border: none;\n",
       "                /* Needs to be in here for Safari polyfill so background images work as expected. */\n",
       "                background-size: auto;\n",
       "            }\n",
       "            .progress-bar-interrupted, .progress-bar-interrupted::-webkit-progress-bar {\n",
       "                background: #F44336;\n",
       "            }\n",
       "        </style>\n",
       "      <progress value='76191' class='' max='100000' style='width:300px; height:20px; vertical-align: middle;'></progress>\n",
       "      76.19% [76191/100000 17:00<05:18 Average Loss = 7,112.3]\n",
       "    </div>\n",
       "    "
      ],
      "text/plain": [
       "<IPython.core.display.HTML object>"
      ]
     },
     "metadata": {},
     "output_type": "display_data"
    }
   ],
   "source": [
    "m.fit_vi()"
   ]
  },
  {
   "cell_type": "code",
   "execution_count": null,
   "metadata": {},
   "outputs": [],
   "source": [
    "m.predict()"
   ]
  },
  {
   "cell_type": "code",
   "execution_count": null,
   "metadata": {
    "scrolled": false
   },
   "outputs": [],
   "source": [
    "visualize_predict(groups, m.pred_samples_predict['y_pred_new'], 8)"
   ]
  },
  {
   "cell_type": "code",
   "execution_count": null,
   "metadata": {},
   "outputs": [],
   "source": [
    "results = calculate_metrics(m.pred_samples_predict['y_pred_new'], groups)"
   ]
  },
  {
   "cell_type": "code",
   "execution_count": null,
   "metadata": {},
   "outputs": [],
   "source": [
    "metrics_to_table(groups, results)"
   ]
  }
 ],
 "metadata": {
  "kernelspec": {
   "display_name": "Python 3",
   "language": "python",
   "name": "python3"
  },
  "language_info": {
   "codemirror_mode": {
    "name": "ipython",
    "version": 3
   },
   "file_extension": ".py",
   "mimetype": "text/x-python",
   "name": "python",
   "nbconvert_exporter": "python",
   "pygments_lexer": "ipython3",
   "version": "3.8.5"
  }
 },
 "nbformat": 4,
 "nbformat_minor": 4
}
