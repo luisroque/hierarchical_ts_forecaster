{
 "cells": [
  {
   "cell_type": "code",
   "execution_count": 5,
   "id": "71fa1246",
   "metadata": {},
   "outputs": [],
   "source": [
    "import pandas as pd\n",
    "import matplotlib.pyplot as plt\n",
    "import tsaugmentation as tsag\n",
    "import numpy as np"
   ]
  },
  {
   "cell_type": "code",
   "execution_count": 6,
   "id": "a45bf90d",
   "metadata": {},
   "outputs": [],
   "source": [
    "dataset = tsag.preprocessing.PreprocessDatasets('prison')\n",
    "groups = dataset.apply_preprocess()\n",
    "pred_mint = pd.read_csv('results_prison_hts.csv', delimiter=';')"
   ]
  },
  {
   "cell_type": "code",
   "execution_count": 13,
   "id": "3524a570",
   "metadata": {},
   "outputs": [],
   "source": [
    "def calculate_metrics_mint(pred_mint, groups):\n",
    "    sort_groups=[]\n",
    "    groups_names = pred_mint.columns[:-3]\n",
    "    for group in groups_names:\n",
    "        pred_mint = pred_mint.loc[(pred_mint[group]!='<aggregated>')]\n",
    "        sort_group = np.unique(groups['train']['groups_names'][group.lower()][groups['train']['groups_idx'][group.lower()]])\n",
    "        pred_mint[group] = pred_mint[group].astype(\"category\")\n",
    "        pred_mint[group].cat.set_categories(sort_group, inplace=True)\n",
    "\n",
    "    pred_mint = pred_mint.sort_values([k.title() for k in groups['train']['groups_names']])\n",
    "\n",
    "    pred_mint = pred_mint.reset_index().drop('index', axis=1)\n",
    "\n",
    "    for group in groups_names:\n",
    "        # Assert order is correct between groups and predictions\n",
    "        np.testing.assert_array_equal(np.unique(pred_mint[group]), np.unique(groups['train']['groups_names'][group.lower()][groups['train']['groups_idx'][group.lower()]]))                           \n",
    "\n",
    "    h = groups['h']\n",
    "    s = groups['train']['s']\n",
    "    n = groups['train']['n']\n",
    "\n",
    "    pred = pred_mint['.mean'].to_numpy().reshape(s, h).T\n",
    "    pred_complete = np.concatenate((np.zeros((n, s)), pred), axis=0)[np.newaxis,:,:]\n",
    "    return pred_complete"
   ]
  },
  {
   "cell_type": "code",
   "execution_count": 14,
   "id": "21b244f4",
   "metadata": {},
   "outputs": [
    {
     "name": "stderr",
     "output_type": "stream",
     "text": [
      "<ipython-input-13-92896ac2bbff>:7: SettingWithCopyWarning: \n",
      "A value is trying to be set on a copy of a slice from a DataFrame.\n",
      "Try using .loc[row_indexer,col_indexer] = value instead\n",
      "\n",
      "See the caveats in the documentation: https://pandas.pydata.org/pandas-docs/stable/user_guide/indexing.html#returning-a-view-versus-a-copy\n",
      "  pred_mint[group] = pred_mint[group].astype(\"category\")\n"
     ]
    }
   ],
   "source": [
    "pred_complete = calculate_metrics_mint(pred_mint, groups)"
   ]
  },
  {
   "cell_type": "code",
   "execution_count": 15,
   "id": "f6fd3e94",
   "metadata": {},
   "outputs": [
    {
     "ename": "NameError",
     "evalue": "name 'mase' is not defined",
     "output_type": "error",
     "traceback": [
      "\u001b[0;31m---------------------------------------------------------------------------\u001b[0m",
      "\u001b[0;31mNameError\u001b[0m                                 Traceback (most recent call last)",
      "\u001b[0;32m<ipython-input-15-a1f79fd8065b>\u001b[0m in \u001b[0;36m<module>\u001b[0;34m\u001b[0m\n\u001b[0;32m----> 1\u001b[0;31m \u001b[0mres\u001b[0m \u001b[0;34m=\u001b[0m \u001b[0mcalculate_metrics\u001b[0m\u001b[0;34m(\u001b[0m\u001b[0mpred_complete\u001b[0m\u001b[0;34m,\u001b[0m \u001b[0mgroups\u001b[0m\u001b[0;34m)\u001b[0m\u001b[0;34m\u001b[0m\u001b[0;34m\u001b[0m\u001b[0m\n\u001b[0m",
      "\u001b[0;32m<ipython-input-11-b48167b69824>\u001b[0m in \u001b[0;36mcalculate_metrics\u001b[0;34m(pred_samples, groups)\u001b[0m\n\u001b[1;32m     24\u001b[0m     \u001b[0mf_all_g\u001b[0m\u001b[0;34m[\u001b[0m\u001b[0;34m'bottom'\u001b[0m\u001b[0;34m]\u001b[0m \u001b[0;34m=\u001b[0m \u001b[0mnp\u001b[0m\u001b[0;34m.\u001b[0m\u001b[0mmean\u001b[0m\u001b[0;34m(\u001b[0m\u001b[0mpred_samples\u001b[0m\u001b[0;34m,\u001b[0m \u001b[0maxis\u001b[0m\u001b[0;34m=\u001b[0m\u001b[0;36m0\u001b[0m\u001b[0;34m)\u001b[0m\u001b[0;34m.\u001b[0m\u001b[0mreshape\u001b[0m\u001b[0;34m(\u001b[0m\u001b[0ms\u001b[0m\u001b[0;34m,\u001b[0m \u001b[0mn\u001b[0m\u001b[0;34m)\u001b[0m\u001b[0;34m.\u001b[0m\u001b[0mT\u001b[0m\u001b[0;34m[\u001b[0m\u001b[0mn\u001b[0m\u001b[0;34m-\u001b[0m\u001b[0mh\u001b[0m\u001b[0;34m:\u001b[0m\u001b[0mn\u001b[0m\u001b[0;34m,\u001b[0m\u001b[0;34m:\u001b[0m\u001b[0;34m]\u001b[0m\u001b[0;34m\u001b[0m\u001b[0;34m\u001b[0m\u001b[0m\n\u001b[1;32m     25\u001b[0m \u001b[0;34m\u001b[0m\u001b[0m\n\u001b[0;32m---> 26\u001b[0;31m     mase_['bottom'] = np.round(mase(n=n-h, \n\u001b[0m\u001b[1;32m     27\u001b[0m                                      \u001b[0mseas\u001b[0m\u001b[0;34m=\u001b[0m\u001b[0mseasonality\u001b[0m\u001b[0;34m,\u001b[0m\u001b[0;34m\u001b[0m\u001b[0;34m\u001b[0m\u001b[0m\n\u001b[1;32m     28\u001b[0m                                      \u001b[0mh\u001b[0m\u001b[0;34m=\u001b[0m\u001b[0mh\u001b[0m\u001b[0;34m,\u001b[0m\u001b[0;34m\u001b[0m\u001b[0;34m\u001b[0m\u001b[0m\n",
      "\u001b[0;31mNameError\u001b[0m: name 'mase' is not defined"
     ]
    }
   ],
   "source": [
    "res = calculate_metrics(pred_complete, groups)"
   ]
  },
  {
   "cell_type": "code",
   "execution_count": 11,
   "id": "a18be7af",
   "metadata": {},
   "outputs": [],
   "source": [
    "def calculate_metrics(pred_samples,\n",
    "                      groups):\n",
    "\n",
    "    pred_s0 = pred_samples.shape[0]\n",
    "    pred_s1 = pred_samples.shape[1]\n",
    "    pred_s2 = pred_samples.shape[2]\n",
    "\n",
    "    pred_samples = pred_samples.reshape(pred_s0, pred_s1*pred_s2, order='F')\n",
    "\n",
    "    seasonality = groups['seasonality']\n",
    "    h = groups['h']\n",
    "    \n",
    "    n = groups['predict']['n']\n",
    "    s = groups['predict']['s']\n",
    "    y_f = groups['predict']['data'].reshape(s, n).T\n",
    "    y_all_g = {}\n",
    "    f_all_g = {}\n",
    "    \n",
    "    mase_ = {}\n",
    "    rmse_ = {}\n",
    "    \n",
    "    # Bottom\n",
    "    y_all_g['bottom'] = y_f\n",
    "    f_all_g['bottom'] = np.mean(pred_samples, axis=0).reshape(s, n).T[n-h:n,:]\n",
    "    \n",
    "    mase_['bottom'] = np.round(mase(n=n-h, \n",
    "                                     seas=seasonality, \n",
    "                                     h=h, \n",
    "                                     y=y_f, \n",
    "                                     f=np.mean(pred_samples, axis=0).reshape(s, n).T[n-h:n,:]),3)\n",
    "    rmse_['bottom'] = np.round(mean_squared_error(y_f[n-h:n,:], np.mean(pred_samples, axis=0).reshape(s, n).T[n-h:n,:], squared=False), 3)\n",
    "\n",
    "    # Total\n",
    "    y_all_g['total'] = np.sum(y_f, axis=1).reshape(-1,1)\n",
    "    f_all_g['total'] = np.sum(np.mean(pred_samples, axis=0).reshape(s, n).T[n-h:n,:], axis=1).reshape(-1,1)\n",
    "    \n",
    "    mase_['total'] = np.round(mase(n=n-h, \n",
    "                                     seas=seasonality, \n",
    "                                     h=h, \n",
    "                                     y=np.sum(y_f, axis=1).reshape(-1,1), \n",
    "                                     f=np.sum(np.mean(pred_samples, axis=0).reshape(s, n).T[n-h:n,:], axis=1).reshape(-1,1))\n",
    "                            ,3)\n",
    "    rmse_['total'] = np.round(mean_squared_error(np.sum(y_f, axis=1).reshape(-1,1)[n-h:n,:], \n",
    "                                             np.sum(np.mean(pred_samples, axis=0).reshape(s, n).T[n-h:n,:],axis=1).reshape(-1,1), \n",
    "                                             squared=False), 3)\n",
    "\n",
    "    # Groups\n",
    "    idx_dict_new = {}\n",
    "    for group in list(groups['predict']['groups_names'].keys()):\n",
    "        y_g = np.zeros((groups['predict']['n'], groups['predict']['groups_names'][group].shape[0]))\n",
    "        f_g = np.zeros((h, groups['predict']['groups_names'][group].shape[0]))\n",
    "\n",
    "        for idx, name in enumerate(groups['predict']['groups_names'][group]):               \n",
    "\n",
    "            g_n = groups['predict']['groups_n'][group]\n",
    "\n",
    "            idx_dict_new[name] = np.where(groups['predict']['groups_idx'][group]==idx,1,0)\n",
    "\n",
    "            y_g[:,idx] = np.sum(idx_dict_new[name]*y_f, axis=1)\n",
    "            f_g[:,idx] = np.sum(idx_dict_new[name]*np.mean(pred_samples, axis=0).reshape(s, n).T, axis=1)[n-h:n]\n",
    "\n",
    "        y_all_g[group] = np.sum(y_g, axis=1).reshape(-1,1)\n",
    "        f_all_g[group] = np.sum(f_g, axis=1).reshape(-1,1)\n",
    "\n",
    "        mase_[group] = np.round(mase(n=n-h, \n",
    "                                     seas=seasonality, \n",
    "                                     h=h, \n",
    "                                     y=y_g, \n",
    "                                     f=f_g)\n",
    "                                ,3)\n",
    "\n",
    "        rmse_[group] = np.round(mean_squared_error(y_g[n-h:n,:], f_g, squared=False), 3)\n",
    "\n",
    "    # All\n",
    "    y_all = np.concatenate([y_all_g[x] for x in y_all_g], 1)\n",
    "    f_all = np.concatenate([f_all_g[x] for x in f_all_g], 1)\n",
    "\n",
    "    mase_['all'] = np.round(mase(n=n-h, \n",
    "                         seas=seasonality, \n",
    "                         h=h, \n",
    "                         y=y_all, \n",
    "                         f=f_all),3)\n",
    "    rmse_['all'] = np.round(mean_squared_error(y_all[n-h:n,:], f_all, squared=False), 3)\n",
    "    \n",
    "    results = {}\n",
    "    results['mase'] = mase_\n",
    "    results['rmse'] = rmse_\n",
    "    return results"
   ]
  },
  {
   "cell_type": "code",
   "execution_count": null,
   "id": "776cad3b",
   "metadata": {},
   "outputs": [],
   "source": []
  }
 ],
 "metadata": {
  "kernelspec": {
   "display_name": "Python 3 (ipykernel)",
   "language": "python",
   "name": "python3"
  },
  "language_info": {
   "codemirror_mode": {
    "name": "ipython",
    "version": 3
   },
   "file_extension": ".py",
   "mimetype": "text/x-python",
   "name": "python",
   "nbconvert_exporter": "python",
   "pygments_lexer": "ipython3",
   "version": "3.9.7"
  }
 },
 "nbformat": 4,
 "nbformat_minor": 5
}
