{
 "cells": [
  {
   "cell_type": "code",
   "execution_count": 21,
   "id": "8f2395ec",
   "metadata": {},
   "outputs": [],
   "source": [
    "import pandas as pd\n",
    "import matplotlib.pyplot as plt\n",
    "import tsaugmentation as tsag\n",
    "import numpy as np"
   ]
  },
  {
   "cell_type": "code",
   "execution_count": null,
   "id": "dacb73f2",
   "metadata": {},
   "outputs": [],
   "source": [
    "from sklearn.metrics import mean_squared_error\n",
    "\n",
    "def mase(n,seas,h,y,f):\n",
    "    return np.mean(((n-seas)/h\n",
    "            * (np.sum(np.abs(y[n:n+h,:] - f), axis=0)\n",
    "               / np.sum(np.abs(y[seas:n, :] - y[:n-seas, :]), axis=0))))\n",
    "\n",
    "def calculate_metrics(pred_samples,\n",
    "                      groups):\n",
    "\n",
    "    pred_s0 = pred_samples.shape[0]\n",
    "    pred_s1 = pred_samples.shape[1]\n",
    "    pred_s2 = pred_samples.shape[2]\n",
    "\n",
    "    pred_samples = pred_samples.reshape(pred_s0, pred_s1*pred_s2, order='F')\n",
    "\n",
    "    seasonality = groups['seasonality']\n",
    "    h = groups['h']\n",
    "    \n",
    "    n = groups['predict']['n']\n",
    "    s = groups['predict']['s']\n",
    "    y_f = groups['predict']['data'].reshape(s, n).T\n",
    "    y_all_g = {}\n",
    "    f_all_g = {}\n",
    "    \n",
    "    mase_ = {}\n",
    "    rmse_ = {}\n",
    "    \n",
    "    # Bottom\n",
    "    y_all_g['bottom'] = y_f\n",
    "    f_all_g['bottom'] = np.mean(pred_samples, axis=0).reshape(s, n).T[n-h:n,:]\n",
    "    \n",
    "    mase_['bottom'] = np.round(mase(n=n-h, \n",
    "                                     seas=seasonality, \n",
    "                                     h=h, \n",
    "                                     y=y_f, \n",
    "                                     f=np.mean(pred_samples, axis=0).reshape(s, n).T[n-h:n,:]),3)\n",
    "    rmse_['bottom'] = np.round(mean_squared_error(y_f[n-h:n,:], np.mean(pred_samples, axis=0).reshape(s, n).T[n-h:n,:], squared=False), 3)\n",
    "\n",
    "    # Total\n",
    "    y_all_g['total'] = np.sum(y_f, axis=1).reshape(-1,1)\n",
    "    f_all_g['total'] = np.sum(np.mean(pred_samples, axis=0).reshape(s, n).T[n-h:n,:], axis=1).reshape(-1,1)\n",
    "    \n",
    "    mase_['total'] = np.round(mase(n=n-h, \n",
    "                                     seas=seasonality, \n",
    "                                     h=h, \n",
    "                                     y=np.sum(y_f, axis=1).reshape(-1,1), \n",
    "                                     f=np.sum(np.mean(pred_samples, axis=0).reshape(s, n).T[n-h:n,:], axis=1).reshape(-1,1))\n",
    "                            ,3)\n",
    "    rmse_['total'] = np.round(mean_squared_error(np.sum(y_f, axis=1).reshape(-1,1)[n-h:n,:], \n",
    "                                             np.sum(np.mean(pred_samples, axis=0).reshape(s, n).T[n-h:n,:],axis=1).reshape(-1,1), \n",
    "                                             squared=False), 3)\n",
    "\n",
    "    # Groups\n",
    "    idx_dict_new = {}\n",
    "    for group in list(groups['predict']['groups_names'].keys()):\n",
    "        y_g = np.zeros((groups['predict']['n'], groups['predict']['groups_names'][group].shape[0]))\n",
    "        f_g = np.zeros((h, groups['predict']['groups_names'][group].shape[0]))\n",
    "\n",
    "        for idx, name in enumerate(groups['predict']['groups_names'][group]):               \n",
    "\n",
    "            g_n = groups['predict']['groups_n'][group]\n",
    "\n",
    "            idx_dict_new[name] = np.where(groups['predict']['groups_idx'][group]==idx,1,0)\n",
    "\n",
    "            y_g[:,idx] = np.sum(idx_dict_new[name]*y_f, axis=1)\n",
    "            f_g[:,idx] = np.sum(idx_dict_new[name]*np.mean(pred_samples, axis=0).reshape(s, n).T, axis=1)[n-h:n]\n",
    "\n",
    "        y_all_g[group] = np.sum(y_g, axis=1).reshape(-1,1)\n",
    "        f_all_g[group] = np.sum(f_g, axis=1).reshape(-1,1)\n",
    "\n",
    "        mase_[group] = np.round(mase(n=n-h, \n",
    "                                     seas=seasonality, \n",
    "                                     h=h, \n",
    "                                     y=y_g, \n",
    "                                     f=f_g)\n",
    "                                ,3)\n",
    "\n",
    "        rmse_[group] = np.round(mean_squared_error(y_g[n-h:n,:], f_g, squared=False), 3)\n",
    "\n",
    "    # All\n",
    "    y_all = np.concatenate([y_all_g[x] for x in y_all_g], 1)\n",
    "    f_all = np.concatenate([f_all_g[x] for x in f_all_g], 1)\n",
    "\n",
    "    mase_['all'] = np.round(mase(n=n-h, \n",
    "                         seas=seasonality, \n",
    "                         h=h, \n",
    "                         y=y_all, \n",
    "                         f=f_all),3)\n",
    "    rmse_['all'] = np.round(mean_squared_error(y_all[n-h:n,:], f_all, squared=False), 3)\n",
    "    \n",
    "    results = {}\n",
    "    results['mase'] = mase_\n",
    "    results['rmse'] = rmse_\n",
    "    return results"
   ]
  },
  {
   "cell_type": "code",
   "execution_count": 6,
   "id": "3a421ed6",
   "metadata": {},
   "outputs": [],
   "source": [
    "dataset = tsag.preprocessing.PreprocessDatasets('prison')\n",
    "groups = dataset.apply_preprocess()\n",
    "pred_mint = pd.read_csv('results_prison_hts.csv', delimiter=';')"
   ]
  },
  {
   "cell_type": "code",
   "execution_count": 13,
   "id": "96da4bef",
   "metadata": {},
   "outputs": [],
   "source": [
    "def calculate_metrics_mint(pred_mint, groups):\n",
    "    sort_groups=[]\n",
    "    groups_names = pred_mint.columns[:-3]\n",
    "    for group in groups_names:\n",
    "        pred_mint = pred_mint.loc[(pred_mint[group]!='<aggregated>')]\n",
    "        sort_group = np.unique(groups['train']['groups_names'][group.lower()][groups['train']['groups_idx'][group.lower()]])\n",
    "        pred_mint[group] = pred_mint[group].astype(\"category\")\n",
    "        pred_mint[group].cat.set_categories(sort_group, inplace=True)\n",
    "\n",
    "    pred_mint = pred_mint.sort_values([k.title() for k in groups['train']['groups_names']])\n",
    "\n",
    "    pred_mint = pred_mint.reset_index().drop('index', axis=1)\n",
    "\n",
    "    for group in groups_names:\n",
    "        # Assert order is correct between original dataset and predictions\n",
    "        np.testing.assert_array_equal(np.unique(pred_mint[group]), np.unique(groups['train']['groups_names'][group.lower()][groups['train']['groups_idx'][group.lower()]]))                           \n",
    "\n",
    "    h = groups['h']\n",
    "    s = groups['train']['s']\n",
    "    n = groups['train']['n']\n",
    "\n",
    "    pred = pred_mint['.mean'].to_numpy().reshape(s, h).T\n",
    "    pred_complete = np.concatenate((np.zeros((n, s)), pred), axis=0)[np.newaxis,:,:]\n",
    "    return pred_complete"
   ]
  },
  {
   "cell_type": "code",
   "execution_count": 14,
   "id": "95731295",
   "metadata": {},
   "outputs": [
    {
     "name": "stderr",
     "output_type": "stream",
     "text": [
      "<ipython-input-13-92896ac2bbff>:7: SettingWithCopyWarning: \n",
      "A value is trying to be set on a copy of a slice from a DataFrame.\n",
      "Try using .loc[row_indexer,col_indexer] = value instead\n",
      "\n",
      "See the caveats in the documentation: https://pandas.pydata.org/pandas-docs/stable/user_guide/indexing.html#returning-a-view-versus-a-copy\n",
      "  pred_mint[group] = pred_mint[group].astype(\"category\")\n"
     ]
    }
   ],
   "source": [
    "pred_complete = calculate_metrics_mint(pred_mint, groups)"
   ]
  },
  {
   "cell_type": "code",
   "execution_count": 20,
   "id": "b98ebb2a",
   "metadata": {},
   "outputs": [
    {
     "data": {
      "text/plain": [
       "{'mase': {'bottom': 2.058,\n",
       "  'total': 0.895,\n",
       "  'state': 1.784,\n",
       "  'gender': 0.914,\n",
       "  'legal': 2.317,\n",
       "  'all': 1.928},\n",
       " 'rmse': {'bottom': 116.29,\n",
       "  'total': 1145.002,\n",
       "  'state': 344.181,\n",
       "  'gender': 574.731,\n",
       "  'legal': 1130.692,\n",
       "  'all': 230.592}}"
      ]
     },
     "execution_count": 20,
     "metadata": {},
     "output_type": "execute_result"
    }
   ],
   "source": [
    "calculate_metrics(pred_complete, groups)"
   ]
  }
 ],
 "metadata": {
  "kernelspec": {
   "display_name": "Python 3 (ipykernel)",
   "language": "python",
   "name": "python3"
  },
  "language_info": {
   "codemirror_mode": {
    "name": "ipython",
    "version": 3
   },
   "file_extension": ".py",
   "mimetype": "text/x-python",
   "name": "python",
   "nbconvert_exporter": "python",
   "pygments_lexer": "ipython3",
   "version": "3.9.7"
  }
 },
 "nbformat": 4,
 "nbformat_minor": 5
}
