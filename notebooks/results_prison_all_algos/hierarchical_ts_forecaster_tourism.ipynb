{
 "cells": [
  {
   "cell_type": "code",
   "execution_count": 1,
   "id": "a0d90230",
   "metadata": {},
   "outputs": [
    {
     "name": "stderr",
     "output_type": "stream",
     "text": [
      "/home/mach2ne/anaconda3/envs/gpytorch/lib/python3.9/site-packages/gluonts/json.py:45: UserWarning: Using `json`-module for json-handling. Consider installing one of `orjson`, `ujson` to speed up serialization and deserialization.\n",
      "  warnings.warn(\n"
     ]
    }
   ],
   "source": [
    "import gpforecaster as gpf\n",
    "import htsmodels as hts\n",
    "import tsaugmentation as tsag\n",
    "import matplotlib.pyplot as plt\n",
    "import os"
   ]
  },
  {
   "cell_type": "code",
   "execution_count": 2,
   "id": "d1d78307",
   "metadata": {},
   "outputs": [],
   "source": [
    "dataset_name = 'tourism'\n",
    "dataset = tsag.preprocessing.PreprocessDatasets(dataset_name)\n",
    "groups = dataset.apply_preprocess()"
   ]
  },
  {
   "cell_type": "code",
   "execution_count": null,
   "id": "f52f4a24",
   "metadata": {},
   "outputs": [
    {
     "name": "stderr",
     "output_type": "stream",
     "text": [
      "100%|██████████| 50/50 [00:02<00:00, 22.48it/s, epoch=1/100, avg_epoch_loss=4.52]\n",
      "100%|██████████| 50/50 [00:01<00:00, 25.11it/s, epoch=2/100, avg_epoch_loss=4.34]\n",
      "100%|██████████| 50/50 [00:02<00:00, 24.25it/s, epoch=3/100, avg_epoch_loss=4.25]\n",
      "100%|██████████| 50/50 [00:01<00:00, 25.57it/s, epoch=4/100, avg_epoch_loss=4.28]\n",
      "100%|██████████| 50/50 [00:01<00:00, 25.13it/s, epoch=5/100, avg_epoch_loss=4.24]\n",
      "100%|██████████| 50/50 [00:02<00:00, 24.61it/s, epoch=6/100, avg_epoch_loss=4.26]\n",
      "100%|██████████| 50/50 [00:02<00:00, 24.70it/s, epoch=7/100, avg_epoch_loss=4.23]\n",
      "100%|██████████| 50/50 [00:02<00:00, 24.47it/s, epoch=8/100, avg_epoch_loss=4.28]\n",
      "100%|██████████| 50/50 [00:01<00:00, 25.17it/s, epoch=9/100, avg_epoch_loss=4.23]\n",
      "100%|██████████| 50/50 [00:02<00:00, 23.27it/s, epoch=10/100, avg_epoch_loss=4.26]\n",
      "100%|██████████| 50/50 [00:02<00:00, 24.91it/s, epoch=11/100, avg_epoch_loss=4.23]\n",
      "100%|██████████| 50/50 [00:02<00:00, 24.17it/s, epoch=12/100, avg_epoch_loss=4.29]\n",
      "100%|██████████| 50/50 [00:01<00:00, 25.65it/s, epoch=13/100, avg_epoch_loss=4.22]\n",
      "100%|██████████| 50/50 [00:02<00:00, 24.08it/s, epoch=14/100, avg_epoch_loss=4.2] \n",
      "100%|██████████| 50/50 [00:01<00:00, 25.11it/s, epoch=15/100, avg_epoch_loss=4.24]\n",
      "100%|██████████| 50/50 [00:02<00:00, 24.95it/s, epoch=16/100, avg_epoch_loss=4.22]\n",
      "100%|██████████| 50/50 [00:02<00:00, 24.21it/s, epoch=17/100, avg_epoch_loss=4.26]\n",
      "100%|██████████| 50/50 [00:01<00:00, 25.74it/s, epoch=18/100, avg_epoch_loss=4.18]\n",
      "100%|██████████| 50/50 [00:02<00:00, 24.91it/s, epoch=19/100, avg_epoch_loss=4.23]\n",
      "100%|██████████| 50/50 [00:01<00:00, 25.19it/s, epoch=20/100, avg_epoch_loss=4.24]\n",
      "100%|██████████| 50/50 [00:01<00:00, 25.26it/s, epoch=21/100, avg_epoch_loss=4.17]\n",
      "100%|██████████| 50/50 [00:02<00:00, 23.92it/s, epoch=22/100, avg_epoch_loss=4.18]\n",
      "100%|██████████| 50/50 [00:02<00:00, 24.66it/s, epoch=23/100, avg_epoch_loss=4.26]\n",
      "100%|██████████| 50/50 [00:02<00:00, 24.37it/s, epoch=24/100, avg_epoch_loss=4.24]\n",
      "100%|██████████| 50/50 [00:01<00:00, 25.14it/s, epoch=25/100, avg_epoch_loss=4.19]\n",
      "100%|██████████| 50/50 [00:02<00:00, 24.66it/s, epoch=26/100, avg_epoch_loss=4.19]\n",
      "100%|██████████| 50/50 [00:02<00:00, 24.38it/s, epoch=27/100, avg_epoch_loss=4.24]\n",
      "100%|██████████| 50/50 [00:02<00:00, 24.07it/s, epoch=28/100, avg_epoch_loss=4.18]\n",
      "100%|██████████| 50/50 [00:02<00:00, 24.65it/s, epoch=29/100, avg_epoch_loss=4.21]\n",
      "100%|██████████| 50/50 [00:02<00:00, 24.11it/s, epoch=30/100, avg_epoch_loss=4.22]\n",
      "100%|██████████| 50/50 [00:02<00:00, 24.68it/s, epoch=31/100, avg_epoch_loss=4.2] \n",
      "100%|██████████| 50/50 [00:01<00:00, 25.00it/s, epoch=32/100, avg_epoch_loss=4.21]\n",
      "100%|██████████| 50/50 [00:02<00:00, 24.91it/s, epoch=33/100, avg_epoch_loss=4.19]\n",
      "100%|██████████| 50/50 [00:02<00:00, 24.59it/s, epoch=34/100, avg_epoch_loss=4.18]\n",
      "100%|██████████| 50/50 [00:01<00:00, 25.09it/s, epoch=35/100, avg_epoch_loss=4.19]\n",
      "100%|██████████| 50/50 [00:02<00:00, 24.22it/s, epoch=36/100, avg_epoch_loss=4.23]\n",
      "100%|██████████| 50/50 [00:02<00:00, 24.56it/s, epoch=37/100, avg_epoch_loss=4.25]\n",
      "100%|██████████| 50/50 [00:02<00:00, 24.36it/s, epoch=38/100, avg_epoch_loss=4.15]\n",
      "100%|██████████| 50/50 [00:02<00:00, 23.55it/s, epoch=39/100, avg_epoch_loss=4.2] \n",
      "100%|██████████| 50/50 [00:02<00:00, 24.65it/s, epoch=40/100, avg_epoch_loss=4.18]\n",
      "100%|██████████| 50/50 [00:02<00:00, 23.73it/s, epoch=41/100, avg_epoch_loss=4.15]\n",
      "100%|██████████| 50/50 [00:02<00:00, 24.22it/s, epoch=42/100, avg_epoch_loss=4.17]\n",
      "100%|██████████| 50/50 [00:01<00:00, 25.12it/s, epoch=43/100, avg_epoch_loss=4.17]\n",
      "100%|██████████| 50/50 [00:02<00:00, 24.87it/s, epoch=44/100, avg_epoch_loss=4.19]\n",
      "100%|██████████| 50/50 [00:02<00:00, 23.99it/s, epoch=45/100, avg_epoch_loss=4.19]\n",
      "100%|██████████| 50/50 [00:02<00:00, 23.68it/s, epoch=46/100, avg_epoch_loss=4.18]\n",
      "100%|██████████| 50/50 [00:02<00:00, 23.65it/s, epoch=47/100, avg_epoch_loss=4.21]\n",
      "100%|██████████| 50/50 [00:02<00:00, 24.41it/s, epoch=48/100, avg_epoch_loss=4.18]\n",
      "100%|██████████| 50/50 [00:02<00:00, 24.89it/s, epoch=49/100, avg_epoch_loss=4.22]\n",
      "100%|██████████| 50/50 [00:02<00:00, 24.58it/s, epoch=50/100, avg_epoch_loss=4.24]\n",
      "100%|██████████| 50/50 [00:02<00:00, 23.96it/s, epoch=51/100, avg_epoch_loss=4.2] \n",
      "100%|██████████| 50/50 [00:02<00:00, 24.01it/s, epoch=52/100, avg_epoch_loss=4.16]\n",
      "100%|██████████| 50/50 [00:01<00:00, 25.07it/s, epoch=53/100, avg_epoch_loss=4.17]\n",
      "100%|██████████| 50/50 [00:02<00:00, 24.52it/s, epoch=54/100, avg_epoch_loss=4.23]\n",
      "100%|██████████| 50/50 [00:02<00:00, 24.85it/s, epoch=55/100, avg_epoch_loss=4.23]\n",
      "100%|██████████| 50/50 [00:02<00:00, 24.26it/s, epoch=56/100, avg_epoch_loss=4.21]\n",
      "100%|██████████| 50/50 [00:02<00:00, 24.20it/s, epoch=57/100, avg_epoch_loss=4.22]\n",
      "100%|██████████| 50/50 [00:02<00:00, 23.81it/s, epoch=58/100, avg_epoch_loss=4.21]\n",
      "100%|██████████| 50/50 [00:02<00:00, 24.18it/s, epoch=59/100, avg_epoch_loss=4.17]\n",
      "100%|██████████| 50/50 [00:02<00:00, 24.44it/s, epoch=60/100, avg_epoch_loss=4.19]\n",
      "100%|██████████| 50/50 [00:01<00:00, 25.20it/s, epoch=61/100, avg_epoch_loss=4.22]\n",
      "100%|██████████| 50/50 [00:02<00:00, 23.77it/s, epoch=62/100, avg_epoch_loss=4.22]\n",
      "100%|██████████| 50/50 [00:02<00:00, 23.90it/s, epoch=63/100, avg_epoch_loss=4.19]\n",
      "100%|██████████| 50/50 [00:01<00:00, 25.04it/s, epoch=64/100, avg_epoch_loss=4.17]\n",
      "100%|██████████| 50/50 [00:02<00:00, 23.84it/s, epoch=65/100, avg_epoch_loss=4.2] \n",
      "100%|██████████| 50/50 [00:02<00:00, 24.01it/s, epoch=66/100, avg_epoch_loss=4.27]\n",
      "100%|██████████| 50/50 [00:01<00:00, 25.14it/s, epoch=67/100, avg_epoch_loss=4.19]\n",
      "100%|██████████| 50/50 [00:02<00:00, 23.89it/s, epoch=68/100, avg_epoch_loss=4.23]\n",
      "100%|██████████| 50/50 [00:02<00:00, 23.47it/s, epoch=69/100, avg_epoch_loss=4.16]\n",
      "100%|██████████| 50/50 [00:02<00:00, 24.69it/s, epoch=70/100, avg_epoch_loss=4.25]\n",
      "100%|██████████| 50/50 [00:02<00:00, 23.61it/s, epoch=71/100, avg_epoch_loss=4.17]\n",
      "100%|██████████| 50/50 [00:02<00:00, 24.12it/s, epoch=72/100, avg_epoch_loss=4.22]\n",
      "100%|██████████| 50/50 [00:02<00:00, 24.10it/s, epoch=73/100, avg_epoch_loss=4.14]\n",
      "100%|██████████| 50/50 [00:02<00:00, 24.44it/s, epoch=74/100, avg_epoch_loss=4.22]\n",
      "100%|██████████| 50/50 [00:02<00:00, 24.92it/s, epoch=75/100, avg_epoch_loss=4.19]\n",
      "100%|██████████| 50/50 [00:02<00:00, 24.40it/s, epoch=76/100, avg_epoch_loss=4.19]\n",
      "100%|██████████| 50/50 [00:02<00:00, 23.59it/s, epoch=77/100, avg_epoch_loss=4.21]\n",
      "100%|██████████| 50/50 [00:01<00:00, 25.39it/s, epoch=78/100, avg_epoch_loss=4.17]\n",
      "100%|██████████| 50/50 [00:01<00:00, 25.37it/s, epoch=79/100, avg_epoch_loss=4.19]\n",
      "100%|██████████| 50/50 [00:01<00:00, 25.16it/s, epoch=80/100, avg_epoch_loss=4.16]\n",
      "100%|██████████| 50/50 [00:02<00:00, 24.64it/s, epoch=81/100, avg_epoch_loss=4.19]\n",
      "100%|██████████| 50/50 [00:02<00:00, 23.51it/s, epoch=82/100, avg_epoch_loss=4.27]\n",
      "100%|██████████| 50/50 [00:02<00:00, 23.55it/s, epoch=83/100, avg_epoch_loss=4.23]\n",
      "100%|██████████| 50/50 [00:02<00:00, 23.85it/s, epoch=84/100, avg_epoch_loss=4.22]\n",
      "100%|██████████| 50/50 [00:02<00:00, 23.32it/s, epoch=85/100, avg_epoch_loss=4.18]\n",
      "100%|██████████| 50/50 [00:01<00:00, 25.18it/s, epoch=86/100, avg_epoch_loss=4.22]\n",
      "100%|██████████| 50/50 [00:02<00:00, 23.29it/s, epoch=87/100, avg_epoch_loss=4.16]\n",
      "100%|██████████| 50/50 [00:02<00:00, 23.79it/s, epoch=88/100, avg_epoch_loss=4.18]\n",
      " 18%|█▊        | 9/50 [00:00<00:01, 25.64it/s, epoch=89/100, avg_epoch_loss=4.2] "
     ]
    }
   ],
   "source": [
    "# Store original results\n",
    "\n",
    "for transf in ['jitter', 'time_warp', 'magnitude_warp', 'scaling']:\n",
    "    #algorithm = 'gpf'\n",
    "    #gpf_model = gpf.model.GPF(f'{dataset_name}_{algorithm}_{transf}_orig_s0', groups)\n",
    "    #model, like = gpf_model.train()\n",
    "    #mean, lower, upper = gpf_model.predict(model, like)\n",
    "    #res = gpf_model.metrics(mean)\n",
    "    #gpf_model.store_metrics(res)\n",
    "\n",
    "    #algorithm = 'mint'\n",
    "    #mint = hts.models.MinT(dataset=f'{dataset_name}_{algorithm}_{transf}_orig_s0', \n",
    "    #                       groups=groups, \n",
    "    #                       aggregate_key = '(State / Zone / Region) * Purpose')\n",
    "    #forecasts = mint.train()\n",
    "    #results = mint.results(forecasts)\n",
    "    #res = mint.metrics(results)\n",
    "    #mint.store_metrics(res)\n",
    "\n",
    "    algorithm = 'deepar'\n",
    "    deepar = hts.models.DeepAR(dataset=f'{dataset_name}_{algorithm}_{transf}_orig_s0', groups=groups)\n",
    "    model = deepar.train()\n",
    "    forecasts = deepar.predict(model)\n",
    "    results = deepar.results(forecasts)\n",
    "    res = deepar.metrics(results)\n",
    "    deepar.store_metrics(res)"
   ]
  },
  {
   "cell_type": "code",
   "execution_count": null,
   "id": "4d57a06a",
   "metadata": {},
   "outputs": [],
   "source": [
    "data = tsag.transformations.CreateTransformedVersions(dataset_name)\n",
    "data.create_new_version_single_transf()"
   ]
  },
  {
   "cell_type": "code",
   "execution_count": null,
   "id": "b0505ddf",
   "metadata": {},
   "outputs": [],
   "source": [
    "vis = tsag.visualization.Visualizer(dataset_name)"
   ]
  },
  {
   "cell_type": "code",
   "execution_count": null,
   "id": "7379262d",
   "metadata": {},
   "outputs": [],
   "source": [
    "algorithm = 'gpf'\n",
    "for k in ['jitter', 'scaling', 'magnitude_warp', 'time_warp']:\n",
    "    vis._read_files(f'single_transf_{k}')\n",
    "    for i in range(6):\n",
    "        for j in range(10):\n",
    "            groups['train']['data'] = vis.y_new[i, j]\n",
    "            gpf_model = gpf.model.GPF(f'{dataset_name}_{algorithm}_{k}_v{i}_s{j}', groups)\n",
    "            model, like = gpf_model.train()\n",
    "            mean, lower, upper = gpf_model.predict(model, like)\n",
    "            res = gpf_model.metrics(mean)\n",
    "            gpf_model.store_metrics(res)"
   ]
  },
  {
   "cell_type": "code",
   "execution_count": null,
   "id": "da1ff992",
   "metadata": {},
   "outputs": [],
   "source": [
    "algorithm = 'mint'\n",
    "for k in ['jitter', 'scaling', 'magnitude_warp', 'time_warp']:\n",
    "    vis._read_files(f'single_transf_{k}')\n",
    "    for i in range(6):\n",
    "        for j in range(10):\n",
    "            groups['train']['data'] = vis.y_new[i, j]\n",
    "            mint = hts.models.MinT(dataset=f'{dataset_name}_{algorithm}_{k}_v{i}_s{j}', \n",
    "                                   groups=groups,\n",
    "                                   aggregate_key = '(State / Zone / Region) * Purpose')\n",
    "            forecasts = mint.train()\n",
    "            results = mint.results(forecasts)\n",
    "            res = mint.metrics(results)\n",
    "            mint.store_metrics(res)"
   ]
  },
  {
   "cell_type": "code",
   "execution_count": null,
   "id": "4e6cfe08",
   "metadata": {},
   "outputs": [],
   "source": [
    "algorithm = 'deepar'\n",
    "for k in ['jitter', 'scaling', 'magnitude_warp', 'time_warp']:\n",
    "    vis._read_files(f'single_transf_{k}')\n",
    "    for i in range(6):\n",
    "        for j in range(10):\n",
    "            groups['train']['data'] = vis.y_new[i, j]\n",
    "            deepar = hts.models.DeepAR(dataset=f'{dataset_name}_{algorithm}_{k}_v{i}_s{j}', groups=groups)\n",
    "            model = deepar.train()\n",
    "            forecasts = deepar.predict(model)\n",
    "            results = deepar.results(forecasts)\n",
    "            res = deepar.metrics(results)\n",
    "            deepar.store_metrics(res)"
   ]
  },
  {
   "cell_type": "code",
   "execution_count": null,
   "id": "64325262",
   "metadata": {},
   "outputs": [],
   "source": []
  }
 ],
 "metadata": {
  "kernelspec": {
   "display_name": "Python 3",
   "language": "python",
   "name": "python3"
  },
  "language_info": {
   "codemirror_mode": {
    "name": "ipython",
    "version": 3
   },
   "file_extension": ".py",
   "mimetype": "text/x-python",
   "name": "python",
   "nbconvert_exporter": "python",
   "pygments_lexer": "ipython3",
   "version": "3.9.7"
  }
 },
 "nbformat": 4,
 "nbformat_minor": 5
}
