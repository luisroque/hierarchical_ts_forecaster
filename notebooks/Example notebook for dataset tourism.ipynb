{
 "cells": [
  {
   "cell_type": "code",
   "execution_count": 5,
   "metadata": {},
   "outputs": [],
   "source": [
    "import warnings\n",
    "import pandas as pd\n",
    "import arviz as az\n",
    "\n",
    "import os, sys\n",
    "dir2 = os.path.abspath('')\n",
    "dir1 = os.path.dirname(dir2)\n",
    "if not dir1 in sys.path: sys.path.append(dir1)\n",
    "import calendar\n",
    "from libs.model import HGPforecaster\n",
    "from libs.metrics import calculate_metrics, metrics_to_table\n",
    "from libs.pre_processing import generate_groups_data\n",
    "from libs.visual_analysis import visualize_fit, visualize_predict\n",
    "az.style.use('arviz-darkgrid')\n",
    "warnings.filterwarnings('ignore')"
   ]
  },
  {
   "cell_type": "code",
   "execution_count": 6,
   "metadata": {},
   "outputs": [],
   "source": [
    "data = pd.read_csv('../data/TourismData_v3.csv')\n",
    "data['Year'] = data['Year'].fillna(method='ffill')\n",
    "\n",
    "d = dict((v,k) for k,v in enumerate(calendar.month_name))\n",
    "data.Month = data.Month.map(d)\n",
    "data = data.assign(t=pd.to_datetime(data[['Year', 'Month']].assign(day=1))).set_index('t')\n",
    "data = data.drop(['Year', 'Month'], axis=1)"
   ]
  },
  {
   "cell_type": "code",
   "execution_count": 8,
   "metadata": {},
   "outputs": [],
   "source": [
    "groups_input = {\n",
    "    'state': [0,1],\n",
    "    'zone': [0,2],\n",
    "    'region': [0,3],\n",
    "    'purpose': [3,6]\n",
    "}"
   ]
  },
  {
   "cell_type": "code",
   "execution_count": 9,
   "metadata": {},
   "outputs": [
    {
     "name": "stdout",
     "output_type": "stream",
     "text": [
      "Number of groups: 4\n",
      "\tstate: 7\n",
      "\tzone: 27\n",
      "\tregion: 76\n",
      "\tpurpose: 4\n",
      "Total number of series: 304\n",
      "Number of points per series for train: 220\n",
      "Total number of points: 228\n",
      "Seasonality: 12\n",
      "Forecast horizon: 8\n"
     ]
    }
   ],
   "source": [
    "groups = generate_groups_data(data, groups_input, seasonality=12, h=8)"
   ]
  },
  {
   "cell_type": "code",
   "execution_count": null,
   "metadata": {},
   "outputs": [
    {
     "name": "stdout",
     "output_type": "stream",
     "text": [
      "Fitting model...\n"
     ]
    },
    {
     "data": {
      "text/html": [
       "\n",
       "    <div>\n",
       "        <style>\n",
       "            /* Turns off some styling */\n",
       "            progress {\n",
       "                /* gets rid of default border in Firefox and Opera. */\n",
       "                border: none;\n",
       "                /* Needs to be in here for Safari polyfill so background images work as expected. */\n",
       "                background-size: auto;\n",
       "            }\n",
       "            .progress-bar-interrupted, .progress-bar-interrupted::-webkit-progress-bar {\n",
       "                background: #F44336;\n",
       "            }\n",
       "        </style>\n",
       "      <progress value='586' class='' max='5000' style='width:300px; height:20px; vertical-align: middle;'></progress>\n",
       "      11.72% [586/5000 00:00<00:00 logp = -6,933.7, ||grad|| = 13,617]\n",
       "    </div>\n",
       "    "
      ],
      "text/plain": [
       "<IPython.core.display.HTML object>"
      ]
     },
     "metadata": {},
     "output_type": "display_data"
    }
   ],
   "source": [
    "m = HGPforecaster(groups_data=groups)\n",
    "m.fit()"
   ]
  },
  {
   "cell_type": "code",
   "execution_count": null,
   "metadata": {},
   "outputs": [],
   "source": [
    "m.predict()"
   ]
  },
  {
   "cell_type": "code",
   "execution_count": null,
   "metadata": {},
   "outputs": [],
   "source": [
    "visualize_fit(groups, m.pred_samples_fit, 8)"
   ]
  },
  {
   "cell_type": "code",
   "execution_count": null,
   "metadata": {},
   "outputs": [],
   "source": [
    "visualize_predict(groups, m.pred_samples_predict, 8)"
   ]
  },
  {
   "cell_type": "code",
   "execution_count": null,
   "metadata": {},
   "outputs": [],
   "source": [
    "results = calculate_metrics(m.pred_samples_predict, groups)"
   ]
  },
  {
   "cell_type": "code",
   "execution_count": null,
   "metadata": {},
   "outputs": [],
   "source": [
    "metrics_to_table(groups, results)"
   ]
  }
 ],
 "metadata": {
  "kernelspec": {
   "display_name": "Python 3",
   "language": "python",
   "name": "python3"
  },
  "language_info": {
   "codemirror_mode": {
    "name": "ipython",
    "version": 3
   },
   "file_extension": ".py",
   "mimetype": "text/x-python",
   "name": "python",
   "nbconvert_exporter": "python",
   "pygments_lexer": "ipython3",
   "version": "3.8.5"
  }
 },
 "nbformat": 4,
 "nbformat_minor": 4
}
